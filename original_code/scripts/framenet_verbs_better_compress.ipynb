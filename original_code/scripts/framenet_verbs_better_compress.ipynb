{
 "cells": [
  {
   "cell_type": "code",
   "execution_count": null,
   "metadata": {
    "collapsed": true
   },
   "outputs": [],
   "source": [
    "# this takes infreqent MSCOCO frames and points them to a parent frame\n",
    "# stores the result in: mscoco_framenet_parent_graph.pik"
   ]
  },
  {
   "cell_type": "code",
   "execution_count": 1,
   "metadata": {
    "collapsed": true
   },
   "outputs": [],
   "source": [
    "import spacy\n",
    "import json\n",
    "import sys\n",
    "import numpy as np\n",
    "from pprint import pprint\n",
    "from collections import Counter, defaultdict\n",
    "import nltk\n",
    "from nltk.corpus import framenet as fn\n",
    "import copy\n",
    "import networkx as nx"
   ]
  },
  {
   "cell_type": "code",
   "execution_count": 2,
   "metadata": {
    "collapsed": false
   },
   "outputs": [],
   "source": [
    "nlp = spacy.load('en')"
   ]
  },
  {
   "cell_type": "code",
   "execution_count": 3,
   "metadata": {
    "collapsed": true
   },
   "outputs": [],
   "source": [
    "def read_framenet(fname):\n",
    "    tokens = []\n",
    "    frames = []\n",
    "    for line in open(fname, \"r\"):\n",
    "        js = json.loads(line)\n",
    "        tokens.append(js[\"tokens\"])\n",
    "        frames.append(js[\"frames\"])\n",
    "    return tokens, frames\n",
    "\n",
    "def frames_to_name_span_dict(frames):\n",
    "    frame_dicts = []\n",
    "    for frame in frames:\n",
    "        fd = {}\n",
    "        for anns in frame:\n",
    "            tg = anns['target']\n",
    "            start = tg['spans'][0]['start']\n",
    "            end = tg['spans'][0]['end']\n",
    "            name = tg['name']\n",
    "            fd[(start, end)] = name\n",
    "        frame_dicts.append(fd)\n",
    "    return frame_dicts"
   ]
  },
  {
   "cell_type": "code",
   "execution_count": null,
   "metadata": {
    "collapsed": false
   },
   "outputs": [],
   "source": [
    "#tokens, frames = read_framenet(\"/data/DataSets/COCO/train_sents_small_rnd.json\")\n",
    "#tokens, frames = read_framenet(\"/localdata/u4534172/COCO/train_sents_small_rnd.json\")\n",
    "tokens, frames = read_framenet(\"/localdata/u4534172/COCO/train_sents.json\")\n",
    "frame_dicts = frames_to_name_span_dict(frames)"
   ]
  },
  {
   "cell_type": "code",
   "execution_count": null,
   "metadata": {
    "collapsed": true
   },
   "outputs": [],
   "source": [
    "def count_verb_frames(tokens, frame_dicts, nlp):\n",
    "    \n",
    "    counter = Counter()\n",
    "    wordlist = defaultdict(Counter)\n",
    "    for i,doc in enumerate(nlp.pipe([\" \".join(toks) for toks in tokens], \n",
    "                                    n_threads=8, batch_size=50000)):\n",
    "        for j, tok in enumerate(doc):\n",
    "            if tok.pos_ == 'VERB':\n",
    "                fk = (j, j+1)\n",
    "                fk2 = (j, j+2)\n",
    "                fkn = (j-1, j+1)\n",
    "                if fk in frame_dicts[i]:\n",
    "                    counter[frame_dicts[i][fk]]+=1\n",
    "                    wordlist[frame_dicts[i][fk]].update([tok.orth_])\n",
    "                elif fk2 in frame_dicts[i]:\n",
    "                    counter[frame_dicts[i][fk2]]+=1\n",
    "                    wordlist[frame_dicts[i][fk2]].update([\" \".join([t.orth_ for t in doc[j:j+2]])])\n",
    "                elif fkn in frame_dicts[i]:\n",
    "                    counter[frame_dicts[i][fkn]]+=1\n",
    "                    wordlist[frame_dicts[i][fkn]].update([\" \".join([t.orth_ for t in doc[j-1:j+1]])])\n",
    "                else:\n",
    "                    pass\n",
    "    return counter, wordlist"
   ]
  },
  {
   "cell_type": "code",
   "execution_count": null,
   "metadata": {
    "collapsed": false
   },
   "outputs": [],
   "source": [
    "frame_counts, frame_to_words = count_verb_frames(tokens, frame_dicts, nlp)"
   ]
  },
  {
   "cell_type": "code",
   "execution_count": 7,
   "metadata": {
    "collapsed": true
   },
   "outputs": [],
   "source": [
    "def get_framenet_graph():\n",
    "    \n",
    "    # create graph nodes\n",
    "    dg = nx.MultiDiGraph()\n",
    "    for f in fn.frames():\n",
    "        dg.add_node(f.name, count=0, words=[])\n",
    "        \n",
    "    # add edges\n",
    "    relations = ['Inheritance', 'Using', 'Perspective_on']\n",
    "    for f in fn.frames():\n",
    "        for fr in f['frameRelations']:\n",
    "            if fr['type']['name'] in relations and fr['superFrameName'] != f.name:\n",
    "                dg.add_edge(f.name, fr['superFrameName'], key=None, \n",
    "                            edge_type=fr['type']['name'])\n",
    "    \n",
    "    return dg\n",
    "\n",
    "def add_words_and_count_to_graph(frame_graph, frame_counts, frame_to_words):\n",
    "    for f,c in frame_counts.items():\n",
    "       if f in frame_graph:\n",
    "            frame_graph.nodes[f]['count'] = c\n",
    "    for f,w in frame_to_words.items():\n",
    "       if f in frame_graph:\n",
    "           frame_graph.nodes[f]['words'] = w\n",
    "    return frame_graph"
   ]
  },
  {
   "cell_type": "code",
   "execution_count": null,
   "metadata": {
    "collapsed": false
   },
   "outputs": [],
   "source": [
    "frame_graph = get_framenet_graph()\n",
    "frame_graph = add_words_and_count_to_graph(frame_graph, frame_counts, frame_to_words)"
   ]
  },
  {
   "cell_type": "code",
   "execution_count": null,
   "metadata": {
    "collapsed": false
   },
   "outputs": [],
   "source": [
    "import matplotlib.pyplot as plt\n",
    "%matplotlib inline\n",
    "plt.figure(figsize=(16,9))\n",
    "nx.draw(frame_graph, node_size=50)"
   ]
  },
  {
   "cell_type": "code",
   "execution_count": null,
   "metadata": {
    "collapsed": true
   },
   "outputs": [],
   "source": [
    "def compress_framenet_graph(frame_graph, th=200):\n",
    "    parent_graph = nx.DiGraph()\n",
    "    parent_graph.add_nodes_from(frame_graph.nodes(data=True))\n",
    "    \n",
    "    sp = list(nx.all_pairs_shortest_path_length(frame_graph))\n",
    "    for f, parents in sp:\n",
    "        \n",
    "        # dont compress nodes which have a high count\n",
    "        if frame_graph.nodes[f]['count'] >= th:\n",
    "            parent_graph.add_edge(f, f)\n",
    "            continue\n",
    "        \n",
    "        # find the closest parent over threshold\n",
    "        best_dist = 9999\n",
    "        best_p = None\n",
    "        for p,d in parents.items():\n",
    "            if frame_graph.nodes[p]['count'] >= th:\n",
    "                if d < best_dist:\n",
    "                    best_dist = d\n",
    "                    best_p = p\n",
    "        \n",
    "        # no parents above threshold\n",
    "        if best_p is None:\n",
    "            # get the highest parent\n",
    "            best_p, best_dist = sorted(parents.items(), key=lambda x: -x[1])[0]\n",
    "    \n",
    "        # compress edges\n",
    "        parent_graph.add_edge(f, best_p)\n",
    "    return parent_graph\n"
   ]
  },
  {
   "cell_type": "code",
   "execution_count": null,
   "metadata": {
    "collapsed": false
   },
   "outputs": [],
   "source": [
    "parent_graph = compress_framenet_graph(frame_graph)"
   ]
  },
  {
   "cell_type": "code",
   "execution_count": null,
   "metadata": {
    "collapsed": false
   },
   "outputs": [],
   "source": [
    "plt.figure(figsize=(16,9))\n",
    "nx.draw(parent_graph, node_size=50)"
   ]
  },
  {
   "cell_type": "code",
   "execution_count": null,
   "metadata": {
    "collapsed": false
   },
   "outputs": [],
   "source": [
    "parent_graph.in_degree()"
   ]
  },
  {
   "cell_type": "code",
   "execution_count": 22,
   "metadata": {
    "collapsed": false
   },
   "outputs": [
    {
     "data": {
      "text/plain": [
       "['Motion']"
      ]
     },
     "execution_count": 22,
     "metadata": {},
     "output_type": "execute_result"
    }
   ],
   "source": [
    "list(parent_graph.neighbors('Motion'))"
   ]
  },
  {
   "cell_type": "code",
   "execution_count": null,
   "metadata": {
    "collapsed": false
   },
   "outputs": [],
   "source": [
    "counts = defaultdict(int)\n",
    "for n,v in parent_graph.nodes.items():\n",
    "    for sc in parent_graph.successors(n):\n",
    "        counts[sc] += v['count']\n",
    "filter(lambda x:x[1] > 0, sorted(list(counts.items()), key=lambda x:-x[1]))"
   ]
  },
  {
   "cell_type": "code",
   "execution_count": 30,
   "metadata": {
    "collapsed": true
   },
   "outputs": [],
   "source": [
    "def remove_empty_wordlists(graph):\n",
    "    for node in graph.nodes:\n",
    "        if graph.nodes[node]['words'] == []:\n",
    "            graph.nodes[node]['words'] = False\n",
    "        if isinstance(graph.nodes[node]['words'], set):\n",
    "            graph.nodes[node]['words'] = list(graph.nodes[node]['words'])\n",
    "        if isinstance(graph.nodes[node]['words'], Counter):\n",
    "            graph.nodes[node]['words'] = list(graph.nodes[node]['words'].items())\n",
    "    return graph"
   ]
  },
  {
   "cell_type": "code",
   "execution_count": 39,
   "metadata": {
    "collapsed": false
   },
   "outputs": [],
   "source": [
    "#parent_graph = remove_empty_wordlists(parent_graph)\n",
    "#nx.write_gml(parent_graph, \"/localdata/u4534172/COCO/mscoco_framenet_parent_graph.gml\")\n",
    "nx.write_gpickle(parent_graph, \"/localdata/u4534172/COCO/mscoco_framenet_parent_graph.pik\", 2)"
   ]
  },
  {
   "cell_type": "code",
   "execution_count": 40,
   "metadata": {
    "collapsed": true
   },
   "outputs": [],
   "source": [
    "parent_graph2 = nx.read_gpickle(\"/localdata/u4534172/COCO/mscoco_framenet_parent_graph.pik\")"
   ]
  },
  {
   "cell_type": "code",
   "execution_count": 44,
   "metadata": {
    "collapsed": false
   },
   "outputs": [
    {
     "data": {
      "text/plain": [
       "AtlasView({'Closure': {}})"
      ]
     },
     "execution_count": 44,
     "metadata": {},
     "output_type": "execute_result"
    }
   ],
   "source": [
    "parent_graph2.adj[\"Closure\"]"
   ]
  },
  {
   "cell_type": "code",
   "execution_count": null,
   "metadata": {
    "collapsed": true
   },
   "outputs": [],
   "source": []
  }
 ],
 "metadata": {
  "kernelspec": {
   "display_name": "SSH u4534172@rbraun BraunPython",
   "language": "",
   "name": "rik_ssh_u4534172_rbraun_braunpython"
  },
  "language_info": {
   "codemirror_mode": {
    "name": "ipython",
    "version": 2
   },
   "file_extension": ".py",
   "mimetype": "text/x-python",
   "name": "python",
   "nbconvert_exporter": "python",
   "pygments_lexer": "ipython2",
   "version": "2.7.12"
  }
 },
 "nbformat": 4,
 "nbformat_minor": 2
}
